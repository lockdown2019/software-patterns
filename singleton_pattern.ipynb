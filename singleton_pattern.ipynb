{
  "nbformat": 4,
  "nbformat_minor": 0,
  "metadata": {
    "colab": {
      "name": "singleton_pattern.ipynb",
      "provenance": [],
      "authorship_tag": "ABX9TyOAgPgdvsE++6ROC6Ibuo4d",
      "include_colab_link": true
    },
    "kernelspec": {
      "name": "python3",
      "display_name": "Python 3"
    },
    "language_info": {
      "name": "python"
    }
  },
  "cells": [
    {
      "cell_type": "markdown",
      "metadata": {
        "id": "view-in-github",
        "colab_type": "text"
      },
      "source": [
        "<a href=\"https://colab.research.google.com/github/lockdown2019/software-patterns/blob/main/singleton_pattern.ipynb\" target=\"_parent\"><img src=\"https://colab.research.google.com/assets/colab-badge.svg\" alt=\"Open In Colab\"/></a>"
      ]
    },
    {
      "cell_type": "code",
      "execution_count": null,
      "metadata": {
        "colab": {
          "base_uri": "https://localhost:8080/"
        },
        "id": "AUqtitzEUBPJ",
        "outputId": "39868504-5378-4f30-fe4a-f2ed174b9e84"
      },
      "outputs": [
        {
          "output_type": "stream",
          "name": "stdout",
          "text": [
            "First object <__main__.Singleton object at 0x7fbe0f9544d0>\n",
            "Second object <__main__.Singleton object at 0x7fbe0f9544d0>\n"
          ]
        }
      ],
      "source": [
        "class Singleton(object):\n",
        "    def __new__(cls):\n",
        "        if not hasattr(cls, 'instance'):\n",
        "            cls.instance = super(Singleton, cls).__new__(cls)\n",
        "        return cls.instance\n",
        "\n",
        "\n",
        "\n",
        "# s1 and s2 will refer to same object.\n",
        "# ----------------------------------------\n",
        "s1 = Singleton()\n",
        "print(\"First object\",  s1)\n",
        "\n",
        "s2 = Singleton()\n",
        "print(\"Second object\",  s2)"
      ]
    }
  ]
}